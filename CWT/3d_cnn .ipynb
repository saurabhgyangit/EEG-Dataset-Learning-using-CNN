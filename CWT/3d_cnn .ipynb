{
  "nbformat": 4,
  "nbformat_minor": 0,
  "metadata": {
    "colab": {
      "name": "3d_cnn.ipynb",
      "provenance": [],
      "collapsed_sections": []
    },
    "kernelspec": {
      "name": "python3",
      "display_name": "Python 3"
    },
    "accelerator": "GPU"
  },
  "cells": [
    {
      "cell_type": "markdown",
      "metadata": {
        "id": "V5pR8eC3qRvg",
        "colab_type": "text"
      },
      "source": [
        ""
      ]
    },
    {
      "cell_type": "code",
      "metadata": {
        "id": "coucsDC8pKOh",
        "colab_type": "code",
        "outputId": "d23886f3-d751-4191-9479-01cb34fda4cb",
        "colab": {
          "base_uri": "https://localhost:8080/",
          "height": 124
        }
      },
      "source": [
        "!git clone https://github.com/Daisybiubiubiu/EEG-Emotion-Recognition.git\n"
      ],
      "execution_count": 3,
      "outputs": [
        {
          "output_type": "stream",
          "text": [
            "Cloning into 'EEG-Emotion-Recognition'...\n",
            "remote: Enumerating objects: 5163, done.\u001b[K\n",
            "remote: Total 5163 (delta 0), reused 0 (delta 0), pack-reused 5163\u001b[K\n",
            "Receiving objects: 100% (5163/5163), 618.21 MiB | 14.70 MiB/s, done.\n",
            "Resolving deltas: 100% (10/10), done.\n",
            "Checking out files: 100% (3848/3848), done.\n"
          ],
          "name": "stdout"
        }
      ]
    },
    {
      "cell_type": "code",
      "metadata": {
        "id": "TT2jjd2WpkyM",
        "colab_type": "code",
        "colab": {}
      },
      "source": [
        "#!ls -R"
      ],
      "execution_count": 0,
      "outputs": []
    },
    {
      "cell_type": "code",
      "metadata": {
        "id": "YdrtYjonppuq",
        "colab_type": "code",
        "colab": {}
      },
      "source": [
        "#!cd ./EEG-Emotion-Recognition  "
      ],
      "execution_count": 0,
      "outputs": []
    },
    {
      "cell_type": "markdown",
      "metadata": {
        "id": "N0xerPl6IdLC",
        "colab_type": "text"
      },
      "source": [
        ""
      ]
    },
    {
      "cell_type": "code",
      "metadata": {
        "id": "bgbkZzkJSozW",
        "colab_type": "code",
        "colab": {}
      },
      "source": [
        "#!ls"
      ],
      "execution_count": 0,
      "outputs": []
    },
    {
      "cell_type": "code",
      "metadata": {
        "id": "vbhLL1q6p25J",
        "colab_type": "code",
        "colab": {}
      },
      "source": [
        "import pandas as pd\n",
        "import numpy as np\n",
        "import matplotlib.pyplot as plt\n",
        "import torch\n",
        "from torch import nn\n",
        "from torch import optim\n",
        "import torch.nn.functional as F\n",
        "from torch.utils.data import TensorDataset\n",
        "from torch.utils.data import DataLoader\n",
        "import time\n",
        "\n",
        "from sklearn.metrics import accuracy_score\n",
        "from sklearn.model_selection import train_test_split\n"
      ],
      "execution_count": 0,
      "outputs": []
    },
    {
      "cell_type": "code",
      "metadata": {
        "id": "EGhlbcRctOcA",
        "colab_type": "code",
        "outputId": "c7a6a2df-115b-4d36-a686-1493103beeb7",
        "colab": {
          "base_uri": "https://localhost:8080/",
          "height": 52
        }
      },
      "source": [
        "frameNum = 60 \n",
        "\n",
        "# load data\n",
        "dfs = []\n",
        "for i in range(1,33):\n",
        "  for j in range(1,41):\n",
        "    filename = './EEG-Emotion-Recognition/CWT/File_%dframe_exscale/participant%dvideo%d.txt'%(frameNum,i,j)\n",
        "    cols = [i for i in range(frameNum)]\n",
        "    df = pd.read_csv(filename, header = None, usecols = cols, delimiter=',')   \n",
        "    dfs.append(df.values)\n",
        "    #print('participant%dvideo%d.txt'%(i,j))\n",
        "\n",
        "dfs = np.array(dfs)\n",
        "print('dataLoaded:')\n",
        "print(dfs.shape)"
      ],
      "execution_count": 31,
      "outputs": [
        {
          "output_type": "stream",
          "text": [
            "dataLoaded:\n",
            "(1280, 1024, 60)\n"
          ],
          "name": "stdout"
        }
      ]
    },
    {
      "cell_type": "code",
      "metadata": {
        "id": "NCcVWMpLd_yX",
        "colab_type": "code",
        "colab": {}
      },
      "source": [
        "# normalize\n",
        "x_min = dfs.min(axis = (1,2),keepdims=True)\n",
        "x_max = dfs.max(axis = (1,2),keepdims=True)\n",
        "dfs_normal = (dfs-x_min)/(x_max-x_min)\n"
      ],
      "execution_count": 0,
      "outputs": []
    },
    {
      "cell_type": "code",
      "metadata": {
        "id": "ZnDA1AzZ-Wxn",
        "colab_type": "code",
        "outputId": "4ae1a4dd-e3ea-4e02-abe5-9f0e6b5d0a91",
        "colab": {
          "base_uri": "https://localhost:8080/",
          "height": 35
        }
      },
      "source": [
        "depth = 3\n",
        "# divide frames ,or 60s is too long for a single 3dinput\n",
        "reshape_dfs = np.split(dfs_normal, frameNum/depth, axis=2)\n",
        "reshape_dfs = np.array(reshape_dfs)\n",
        "reshape_dfs = np.reshape(reshape_dfs,[-1,1024,depth])\n",
        "print(reshape_dfs.shape)"
      ],
      "execution_count": 54,
      "outputs": [
        {
          "output_type": "stream",
          "text": [
            "(25600, 1024, 3)\n"
          ],
          "name": "stdout"
        }
      ]
    },
    {
      "cell_type": "code",
      "metadata": {
        "id": "383y2IXneNRI",
        "colab_type": "code",
        "outputId": "66ad41fa-2034-44c2-bb5e-ff9798e7e17b",
        "colab": {
          "base_uri": "https://localhost:8080/",
          "height": 35
        }
      },
      "source": [
        "# load label\n",
        "cols = ['valence', 'arousal', 'dominance', 'liking']\n",
        "label_df = pd.read_csv('./EEG-Emotion-Recognition/CWT/label.txt',\n",
        "    usecols = [i for i in range(4)], header=None, delimiter=',' )\n",
        "print(label_df.shape)\n",
        "label_df.columns = cols\n",
        "label_df[label_df<5] = 0\n",
        "label_df[label_df>=5] = 1\n"
      ],
      "execution_count": 55,
      "outputs": [
        {
          "output_type": "stream",
          "text": [
            "(1280, 4)\n"
          ],
          "name": "stdout"
        }
      ]
    },
    {
      "cell_type": "code",
      "metadata": {
        "id": "hjwXV-gLeWSd",
        "colab_type": "code",
        "outputId": "6be8e8d8-7bdc-4db4-dd53-16d9ba557062",
        "colab": {
          "base_uri": "https://localhost:8080/",
          "height": 35
        }
      },
      "source": [
        "# valence\n",
        "label = label_df['arousal'].astype(int).values\n",
        "label = np.tile(label,20)\n",
        "print(label.shape)\n"
      ],
      "execution_count": 56,
      "outputs": [
        {
          "output_type": "stream",
          "text": [
            "(25600,)\n"
          ],
          "name": "stdout"
        }
      ]
    },
    {
      "cell_type": "code",
      "metadata": {
        "id": "QZNPs6-IeZlx",
        "colab_type": "code",
        "outputId": "f465c672-4099-4f77-9aa4-0c287fb22ee1",
        "colab": {
          "base_uri": "https://localhost:8080/",
          "height": 35
        }
      },
      "source": [
        "# divive train & test\n",
        "x_train, x_test, y_train, y_test = train_test_split(reshape_dfs, label, test_size=0.1, random_state=1)\n",
        "\n",
        "x_train = torch.from_numpy(x_train).float()\n",
        "y_train = torch.from_numpy(y_train).long()\n",
        "x_test = torch.from_numpy(x_test).float()\n",
        "y_test = torch.from_numpy(y_test).long()\n",
        "\n",
        "n = x_train.shape[0]\n",
        "print(n)"
      ],
      "execution_count": 57,
      "outputs": [
        {
          "output_type": "stream",
          "text": [
            "23040\n"
          ],
          "name": "stdout"
        }
      ]
    },
    {
      "cell_type": "code",
      "metadata": {
        "id": "7xFwg4dAgAHL",
        "colab_type": "code",
        "colab": {}
      },
      "source": [
        "class cnn_classifier(nn.Module):\n",
        "  def __init__(self):\n",
        "    super().__init__()\n",
        "    self.conv11 = nn.Conv3d(in_channels=1, out_channels=32, kernel_size=3, stride=1, padding=1)\n",
        "    self.conv12 = nn.Conv3d(in_channels=32, out_channels=32, kernel_size=3, stride=1, padding=1)\n",
        "    self.pool1 = nn.MaxPool3d(kernel_size=2, padding=(0,0,1))\n",
        "    \n",
        "    self.conv21 = nn.Conv3d(in_channels=32, out_channels=64, kernel_size=3, stride=1, padding=1)\n",
        "    self.conv22 = nn.Conv3d(in_channels=64, out_channels=64, kernel_size=3, stride=1, padding=1)\n",
        "    self.pool2 = nn.MaxPool3d(kernel_size=2, padding=(0,0,1))\n",
        "    \n",
        "    self.conv31 = nn.Conv3d(in_channels=64, out_channels=128, kernel_size=3, stride=1, padding=1)\n",
        "    self.conv32 = nn.Conv3d(in_channels=128, out_channels=128, kernel_size=3, stride=1, padding=1)\n",
        "    self.pool3 = nn.MaxPool3d(kernel_size=2, padding=0)\n",
        "    \n",
        "\n",
        "    self.fc_layer = nn.Linear(128*4*4*1, 2)\n",
        "    \n",
        "    self.dropout_layer = nn.Dropout(p=0.5)\n",
        "\n",
        "  def forward(self, xb):\n",
        "    h1 = self.conv11(xb)\n",
        "    h1 = self.conv12(h1)\n",
        "    h1 = self.dropout_layer(h1)\n",
        "    h1 = self.pool1(h1)\n",
        "    h1 = F.relu(h1)\n",
        "\n",
        "    h2 = self.conv21(h1)\n",
        "    h2 = self.conv22(h2)\n",
        "    #h2 = self.dropout_layer(h2)\n",
        "    h2 = self.pool2(h2)\n",
        "    h2 = F.relu(h2) \n",
        "\n",
        "    h3 = self.conv31(h2)\n",
        "    h3 = self.conv32(h3)\n",
        "    #h3 = self.dropout_layer(h3)\n",
        "    h3 = self.pool3(h3)\n",
        "    h3 = F.relu(h3) \n",
        "    \n",
        "    \n",
        "    # flatten the output from conv layers before feeind it to FC layer\n",
        "    flatten = h3.view(-1, 128*4*4*1)\n",
        "    out = self.fc_layer(flatten)\n",
        "    #out = self.dropout_layer(out)\n",
        "    return out\n"
      ],
      "execution_count": 0,
      "outputs": []
    },
    {
      "cell_type": "code",
      "metadata": {
        "id": "UN2Vsg0XgBJ2",
        "colab_type": "code",
        "colab": {}
      },
      "source": [
        "def train_model(model, x_train, y_train, x_test, y_test, epochs=50 , batch_size=32, lr=0.0001, weight_decay=0):\n",
        "  # data\n",
        "  train_dataset = TensorDataset(x_train, y_train)\n",
        "  train_data_loader = DataLoader(train_dataset, batch_size=batch_size)\n",
        "\n",
        "  # loss function\n",
        "  loss_func = F.cross_entropy\n",
        "\n",
        "  # optimizer\n",
        "  #optimizer = optim.SGD(model.parameters(), lr=lr, weight_decay=weight_decay)\n",
        "  optimizer = optim.Adam(model.parameters(), lr=lr, weight_decay=weight_decay)\n",
        "\n",
        "  # figure\n",
        "  train_a = list([])\n",
        "  test_a = list([])\n",
        "\n",
        "  # training loop\n",
        "  for epoch in range(epochs):\n",
        "    model.train()\n",
        "    tic = time.time()\n",
        "    acc_train = []\n",
        "    for xb, yb in train_data_loader:    \n",
        "      xb, yb = xb.to(device), yb.to(device)\n",
        "      pred = model(xb)\n",
        "      loss = loss_func(pred, yb)\n",
        "      \n",
        "      optimizer.zero_grad()\n",
        "      loss.backward()\n",
        "      optimizer.step()\n",
        "      acc_train.append(pred.detach().argmax(1).eq(yb).float().mean().cpu().numpy())\n",
        "    acc_train = np.mean(acc_train)\n",
        "    toc = time.time()\n",
        "    \n",
        "    with torch.no_grad():\n",
        "      model.eval()\n",
        "      y_pred = model(x_test.to(device))\n",
        "      acc = y_pred.argmax(1).eq(y_test.to(device)).float().mean().cpu().numpy()\n",
        "\n",
        "    train_a.append(acc_train)\n",
        "    test_a.append(acc)\n",
        "    print('Loss at epoch %d : %f, train_acc: %f, test_acc: %f, running time: %d'% (epoch, loss.item(), acc_train, acc, toc-tic))\n",
        "\n",
        "  # draw an accuray figure\n",
        "  plt.plot(train_a,'y.-.')\n",
        "  plt.plot(test_a,'.-.')\n",
        "  plt.xlabel('epoch')\n",
        "  plt.ylabel('accuracy')\n"
      ],
      "execution_count": 0,
      "outputs": []
    },
    {
      "cell_type": "code",
      "metadata": {
        "id": "qPejyQYagI9Y",
        "colab_type": "code",
        "outputId": "9b02c3fe-4aaf-47b2-b0af-7512de1d5d46",
        "colab": {
          "base_uri": "https://localhost:8080/",
          "height": 1000
        }
      },
      "source": [
        "model = cnn_classifier()\n",
        "device = 'cuda' if torch.cuda.is_available() else 'cpu'\n",
        "model = model.to(device)\n",
        "train_model(model, x_train.view(-1, 1, 32, 32, depth), y_train, x_test.view(-1, 1, 32, 32, depth), y_test)"
      ],
      "execution_count": 63,
      "outputs": [
        {
          "output_type": "stream",
          "text": [
            "Loss at epoch 0 : 0.648105, train_acc: 0.587457, test_acc: 0.601172, running time: 29\n",
            "Loss at epoch 1 : 0.583447, train_acc: 0.590365, test_acc: 0.612500, running time: 30\n",
            "Loss at epoch 2 : 0.571050, train_acc: 0.618446, test_acc: 0.627344, running time: 29\n",
            "Loss at epoch 3 : 0.551027, train_acc: 0.645703, test_acc: 0.638281, running time: 29\n",
            "Loss at epoch 4 : 0.529648, train_acc: 0.668793, test_acc: 0.658203, running time: 29\n",
            "Loss at epoch 5 : 0.511709, train_acc: 0.696441, test_acc: 0.676953, running time: 29\n",
            "Loss at epoch 6 : 0.511689, train_acc: 0.722352, test_acc: 0.696094, running time: 29\n",
            "Loss at epoch 7 : 0.465546, train_acc: 0.748047, test_acc: 0.725781, running time: 29\n",
            "Loss at epoch 8 : 0.444555, train_acc: 0.776085, test_acc: 0.746484, running time: 29\n",
            "Loss at epoch 9 : 0.446782, train_acc: 0.799262, test_acc: 0.762500, running time: 29\n",
            "Loss at epoch 10 : 0.406035, train_acc: 0.822049, test_acc: 0.766797, running time: 29\n",
            "Loss at epoch 11 : 0.353531, train_acc: 0.840408, test_acc: 0.777344, running time: 29\n",
            "Loss at epoch 12 : 0.304901, train_acc: 0.859983, test_acc: 0.778125, running time: 29\n",
            "Loss at epoch 13 : 0.363881, train_acc: 0.874479, test_acc: 0.770703, running time: 29\n",
            "Loss at epoch 14 : 0.243578, train_acc: 0.888932, test_acc: 0.784766, running time: 29\n",
            "Loss at epoch 15 : 0.230909, train_acc: 0.902214, test_acc: 0.789062, running time: 29\n",
            "Loss at epoch 16 : 0.280899, train_acc: 0.907596, test_acc: 0.789062, running time: 29\n",
            "Loss at epoch 17 : 0.193771, train_acc: 0.917882, test_acc: 0.798828, running time: 29\n",
            "Loss at epoch 18 : 0.194120, train_acc: 0.926042, test_acc: 0.801953, running time: 29\n",
            "Loss at epoch 19 : 0.187737, train_acc: 0.932248, test_acc: 0.803516, running time: 29\n",
            "Loss at epoch 20 : 0.152482, train_acc: 0.939974, test_acc: 0.802344, running time: 29\n",
            "Loss at epoch 21 : 0.180702, train_acc: 0.939497, test_acc: 0.792188, running time: 29\n",
            "Loss at epoch 22 : 0.133181, train_acc: 0.945747, test_acc: 0.801953, running time: 29\n",
            "Loss at epoch 23 : 0.271475, train_acc: 0.943576, test_acc: 0.787500, running time: 29\n",
            "Loss at epoch 24 : 0.112474, train_acc: 0.949262, test_acc: 0.807031, running time: 29\n",
            "Loss at epoch 25 : 0.103225, train_acc: 0.947700, test_acc: 0.807813, running time: 29\n",
            "Loss at epoch 26 : 0.101134, train_acc: 0.958464, test_acc: 0.812891, running time: 29\n",
            "Loss at epoch 27 : 0.119722, train_acc: 0.961806, test_acc: 0.820312, running time: 29\n",
            "Loss at epoch 28 : 0.079573, train_acc: 0.962370, test_acc: 0.809375, running time: 29\n",
            "Loss at epoch 29 : 0.077359, train_acc: 0.962847, test_acc: 0.803906, running time: 29\n",
            "Loss at epoch 30 : 0.065405, train_acc: 0.968359, test_acc: 0.816406, running time: 29\n",
            "Loss at epoch 31 : 0.085957, train_acc: 0.966406, test_acc: 0.816016, running time: 29\n",
            "Loss at epoch 32 : 0.106540, train_acc: 0.966406, test_acc: 0.809766, running time: 29\n",
            "Loss at epoch 33 : 0.076944, train_acc: 0.969054, test_acc: 0.814063, running time: 29\n",
            "Loss at epoch 34 : 0.067005, train_acc: 0.967231, test_acc: 0.812891, running time: 29\n",
            "Loss at epoch 35 : 0.023966, train_acc: 0.973828, test_acc: 0.821875, running time: 29\n",
            "Loss at epoch 36 : 0.039877, train_acc: 0.977127, test_acc: 0.816016, running time: 29\n",
            "Loss at epoch 37 : 0.072587, train_acc: 0.975174, test_acc: 0.814063, running time: 29\n",
            "Loss at epoch 38 : 0.022546, train_acc: 0.977170, test_acc: 0.813281, running time: 29\n",
            "Loss at epoch 39 : 0.059614, train_acc: 0.974219, test_acc: 0.816797, running time: 29\n",
            "Loss at epoch 40 : 0.055675, train_acc: 0.976780, test_acc: 0.808984, running time: 29\n",
            "Loss at epoch 41 : 0.036018, train_acc: 0.979905, test_acc: 0.813281, running time: 29\n",
            "Loss at epoch 42 : 0.138854, train_acc: 0.976215, test_acc: 0.817969, running time: 29\n",
            "Loss at epoch 43 : 0.025484, train_acc: 0.978733, test_acc: 0.820703, running time: 29\n",
            "Loss at epoch 44 : 0.022092, train_acc: 0.979991, test_acc: 0.824609, running time: 29\n",
            "Loss at epoch 45 : 0.060725, train_acc: 0.977300, test_acc: 0.809766, running time: 29\n",
            "Loss at epoch 46 : 0.087742, train_acc: 0.983160, test_acc: 0.803125, running time: 29\n",
            "Loss at epoch 47 : 0.180404, train_acc: 0.981467, test_acc: 0.805078, running time: 29\n",
            "Loss at epoch 48 : 0.037376, train_acc: 0.981771, test_acc: 0.817187, running time: 29\n",
            "Loss at epoch 49 : 0.059013, train_acc: 0.980729, test_acc: 0.812500, running time: 29\n"
          ],
          "name": "stdout"
        },
        {
          "output_type": "display_data",
          "data": {
            "image/png": "[encoded data removed]",
            "text/plain": [
              "<Figure size 432x288 with 1 Axes>"
            ]
          },
          "metadata": {
            "tags": []
          }
        }
      ]
    },
    {
      "cell_type": "code",
      "metadata": {
        "id": "zyf0fFy5b7MX",
        "colab_type": "code",
        "colab": {}
      },
      "source": [
        ""
      ],
      "execution_count": 0,
      "outputs": []
    }
  ]
}